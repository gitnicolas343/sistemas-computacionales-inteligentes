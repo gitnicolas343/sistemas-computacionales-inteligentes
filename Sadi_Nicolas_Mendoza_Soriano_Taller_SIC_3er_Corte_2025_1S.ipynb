{
  "cells": [
    {
      "cell_type": "markdown",
      "metadata": {
        "id": "view-in-github",
        "colab_type": "text"
      },
      "source": [
        "<a href=\"https://colab.research.google.com/github/gitnicolas343/sistemas-computacionales-inteligentes/blob/main/Sadi_Nicolas_Mendoza_Soriano_Taller_SIC_3er_Corte_2025_1S.ipynb\" target=\"_parent\"><img src=\"https://colab.research.google.com/assets/colab-badge.svg\" alt=\"Open In Colab\"/></a>"
      ]
    },
    {
      "cell_type": "markdown",
      "id": "cd189236",
      "metadata": {
        "id": "cd189236"
      },
      "source": [
        "# Taller 3er Corte"
      ]
    },
    {
      "cell_type": "markdown",
      "id": "c27bfc06",
      "metadata": {
        "id": "c27bfc06"
      },
      "source": [
        "## Ej 1\n",
        "\n",
        "Usando algoritmos genéticos entrene los pesos de una red neuronal de tal forma que prediga la operación XOR. Dadas las siguientes entradas\n",
        "\n",
        "data_inputs = numpy.array([[1, 1],[1, 0],[0, 1],[0, 0]])\n",
        "\n",
        "genera las siguientes salidas\n",
        "\n",
        "data_outputs = numpy.array([0,1,1,0])\n",
        "\n",
        "Utilice una red con una capa oculta, y funciones de activación de tipo sigmoide tanto en la oculta como en la de salida de tipo sigmoide"
      ]
    },
    {
      "cell_type": "code",
      "source": [
        "import numpy as np\n",
        "import matplotlib.pyplot as plt\n",
        "\n",
        "#datos\n",
        "data_inputs = np.array([[1, 1], [1, 0], [0, 1], [0, 0]])\n",
        "data_outputs = np.array([0, 1, 1, 0])\n",
        "\n",
        "\n",
        "def sigmoid(x):\n",
        "    return 1/(1+np.exp(-x))\n",
        "\n",
        "\n",
        "\n",
        "def red_meuronal(datos,individuo):\n",
        "    W1 = individuo[0:4].reshape(2, 2)\n",
        "    b1 = individuo[4]                    #decidi incluir un bias (sesgo) en base a los apuntes del curso de machine learning\n",
        "    W2 = individuo[5:7].reshape(2, 1)\n",
        "    b2 = individuo[7]\n",
        "\n",
        "    salida = list()\n",
        "\n",
        "    for iter in range(len(datos)):            #para cada dato porpago hacia adelante la red\n",
        "        dato = datos[iter]\n",
        "        capa1 = sigmoid(np.dot(W1,dato) + b1)\n",
        "        capa2 = sigmoid(np.dot(capa1,W2)+ b2)\n",
        "\n",
        "        salida.append(capa2.item())           #almaceno la salida de la capa  que es la ultima, llega como un vector dentro de otro pero solo tiene un escala  asi que lo saco\n",
        "    return salida\n",
        "\n",
        "def mse( reales, salidas):                    #erro cuadratico es la funcion de  costo\n",
        "    return np.mean((np.array(salidas)- np.array(reales))**2)"
      ],
      "metadata": {
        "id": "1YeUmevyvQIY"
      },
      "id": "1YeUmevyvQIY",
      "execution_count": null,
      "outputs": []
    },
    {
      "cell_type": "code",
      "source": [
        "#algoritmo genetico\n",
        "\n",
        "def pobalcion_inicial(tamano_poblacion):                #por facilidad y analogo al problema de las 8 reinas  tomo los individuos como vectores de 8 entradas\n",
        "    poblacion = list()                                  #en la funcion de la red los reestructuro y los tomo como parametros de la red\n",
        "    for i in range(tamano_poblacion):\n",
        "        poblacion.append(np.random.uniform(-2, 2, 8))\n",
        "    return poblacion\n",
        "\n",
        "\n",
        "def funcion_de_idoneidad(poblacion, data_inputs, data_outputs):  #evalua la idoneidad de la red\n",
        "    idoneidades = list()                                         #almaceno las ideoneidades\n",
        "    for individuo in poblacion:\n",
        "        salidas = red_meuronal(data_inputs, individuo)         #evaluo la red con los parametros\n",
        "        loss = mse(data_outputs, salidas)                      #calculo la perdida del mse\n",
        "        idoneidades.append(1 / loss)                           #la inversa sera mi funcion de idoneidad\n",
        "    return np.array(idoneidades)\n",
        "\n",
        "def seleccion(poblacion,fun_idoneidad):                        #Retorne los 2 padres que resultan de la seleccion de tipo ruleta\n",
        "    pesos = fun_idoneidad/np.sum(fun_idoneidad)               #probablidad relativa\n",
        "    seleccion1 =np.random.choice(len(poblacion),replace = False ,size = 2, p = pesos )  #seleccion tipo ruleta\n",
        "    return poblacion[seleccion1[0]], poblacion[seleccion1[1]]    #individuos seleccionados\n",
        "\n",
        "def cross_over(padre1,padre2):\n",
        "    # Retorna los dos hijos producto del cross-over entre padre1 y padre2\n",
        "    #se selecciona aleatoriamente un punto de curze\n",
        "    punto = np.random.randint(1, 8)\n",
        "    hijo1 = np.concatenate([padre1[:punto], padre2[punto:]])     #ya que decidi trabajar mas con vectores que con listas uso concatenate de numpy para combinar los genes\n",
        "    hijo2 = np.concatenate([padre2[:punto], padre1[punto:]])\n",
        "    return hijo1, hijo2\n",
        "\n",
        "def mutacion(hijo):                                             #muto una posicion aleatoria de los hijos siempre y cuando la porbabilidad caiga en el umbral de 0.2\n",
        "    for i in range(8):\n",
        "        if np.random.rand() < 0.2:                              #del condicional if\n",
        "            hijo[i] += np.random.normal(0, 0.3)\n",
        "    return hijo                                                 #la aplico para cada hijo"
      ],
      "metadata": {
        "id": "avErtxOG6drC"
      },
      "id": "avErtxOG6drC",
      "execution_count": null,
      "outputs": []
    },
    {
      "cell_type": "code",
      "source": [
        "#bucle principal\n",
        "tamano_poblacion = 300\n",
        "generaciones = 1000\n",
        "\n",
        "poblacion = pobalcion_inicial(tamano_poblacion)\n",
        "mejor_idenoidad_registrada = list()\n",
        "promidenodades = list()\n",
        "\n",
        "\n",
        "for generacion in range(generaciones):\n",
        "    #para el primer individuo\n",
        "    idenoidad = funcion_de_idoneidad(poblacion, data_inputs, data_outputs)\n",
        "    promidenodades.append(np.mean(idenoidad))\n",
        "\n",
        "    idenoidad_maxima = np.max(idenoidad)\n",
        "    mejor_idenoidad_registrada.append(idenoidad_maxima)\n",
        "\n",
        "    # selecciono del mejor individuo\n",
        "    mejor_idx = np.argmax(idenoidad)\n",
        "    nueva_generacion= poblacion[mejor_idx]\n",
        "    if idenoidad_maxima > 1e4:\n",
        "\n",
        "        print(f'Mejor Individuo: {nueva_generacion}')\n",
        "        print(f'Prueba:{np.round(red_meuronal(data_inputs,nueva_generacion))}')\n",
        "        print(f'Generacion:{generacion}')\n",
        "\n",
        "        print('Parametro de la Red mejor entrenada:')\n",
        "        print(f'W1:{nueva_generacion[0:4].reshape(2, 2)}')\n",
        "        print(f'b1:{nueva_generacion[4]}')\n",
        "        print(f'W2:{nueva_generacion[5:7].reshape(2, 1)}')\n",
        "        print(f'b2:{nueva_generacion[7]}')\n",
        "        break\n",
        "\n",
        "\n",
        "\n",
        "    nueva_poblacion = [nueva_generacion]  # almaceno el mejor individuo\n",
        "    #ciclo de la generacion\n",
        "    while len(nueva_poblacion) < tamano_poblacion:\n",
        "        # selecciono y asigno los mejores padres encontrados\n",
        "        padre1, padre2 = seleccion(poblacion, idenoidad)\n",
        "\n",
        "        # cruzo los padres\n",
        "        hijo1, hijo2 = cross_over(padre1, padre2)\n",
        "\n",
        "        #muto cada hijo\n",
        "        hijo1 = mutacion(hijo1)\n",
        "        hijo2 = mutacion(hijo2)\n",
        "\n",
        "        nueva_poblacion.append(hijo1)                      #lleno la lista de poblacion y esta es mi generacion\n",
        "        if len(nueva_poblacion) < tamano_poblacion:\n",
        "            nueva_poblacion.append(hijo2)\n",
        "\n",
        "    poblacion = nueva_poblacion                           #reasigno mi poblacion como la generacion anterior\n",
        "\n",
        "    # control del proceso\n",
        "    if generacion % 100 == 0:\n",
        "        print(f\"Generacion {generacion}: | Mejor idoneidad = {idenoidad_maxima}|\")  #\n",
        "        print('_____________________________________________________________')"
      ],
      "metadata": {
        "id": "1J-FGWzi15QK",
        "colab": {
          "base_uri": "https://localhost:8080/"
        },
        "outputId": "5bd26ddf-a55f-4c20-c706-cb6ca8562b66"
      },
      "id": "1J-FGWzi15QK",
      "execution_count": null,
      "outputs": [
        {
          "output_type": "stream",
          "name": "stdout",
          "text": [
            "Generacion 0: | Mejor idoneidad = 4.237139466142481|\n",
            "_____________________________________________________________\n",
            "Generacion 100: | Mejor idoneidad = 6.4247872013961045|\n",
            "_____________________________________________________________\n",
            "Mejor Individuo: [ 6.51885034 -6.05040735 -8.52450832  6.90031048 -3.43789748 10.23944735\n",
            " 10.40902259 -5.13485907]\n",
            "Prueba:[0. 1. 1. 0.]\n",
            "Generacion:196\n",
            "Parametro de la Red mejor entrenada:\n",
            "W1:[[ 6.51885034 -6.05040735]\n",
            " [-8.52450832  6.90031048]]\n",
            "b1:-3.4378974758745153\n",
            "W2:[[10.23944735]\n",
            " [10.40902259]]\n",
            "b2:-5.134859069837263\n"
          ]
        }
      ]
    },
    {
      "cell_type": "code",
      "source": [
        "plt.figure(figsize=(8,8))\n",
        "plt.plot(promidenodades)\n",
        "plt.title('Grafico de idenoidad promedio vs geración ')\n",
        "plt.xlabel('Generación')\n",
        "plt.ylabel('Idenoidad promedio')\n",
        "plt.grid()\n",
        "plt.show()"
      ],
      "metadata": {
        "colab": {
          "base_uri": "https://localhost:8080/",
          "height": 719
        },
        "id": "YPdyuQC8LJm5",
        "outputId": "fdae9740-8a93-41b3-fd85-a249b9aa7d78"
      },
      "id": "YPdyuQC8LJm5",
      "execution_count": null,
      "outputs": [
        {
          "output_type": "display_data",
          "data": {
            "text/plain": [
              "<Figure size 800x800 with 1 Axes>"
            ],
            "image/png": "[encoded data removed]"
          },
          "metadata": {}
        }
      ]
    },
    {
      "cell_type": "markdown",
      "id": "66d01aa5",
      "metadata": {
        "id": "66d01aa5"
      },
      "source": [
        "\n",
        "\n",
        "\n",
        "## Ej 2\n",
        "\n",
        "Desde el proyecto Gutenberg descargue varias obras de su autor favorito para generar un corpus. A partir de este realice el siguiente análisis lingüístico:\n",
        "\n",
        "a) Realice una gráfica que muestre la frecuencia de los 5 n-gramas más comunes en el corpus.\n",
        "b) Usando el corpus genere texto aleatorio que use el mismo estilo del autor seleccionado.\n",
        "c) Calcule el td-idf de los textos y identifique y analice el tópico particular de cada obra"
      ]
    },
    {
      "cell_type": "code",
      "source": [
        "!pip install markovify\n",
        "\n",
        "from google.colab import drive\n",
        "drive.mount('/content/drive')\n",
        "from collections import Counter\n",
        "import math\n",
        "import nltk\n",
        "import os\n",
        "import markovify\n",
        "nltk.download('punkt_tab') #hay que descargar este tokenizador"
      ],
      "metadata": {
        "colab": {
          "base_uri": "https://localhost:8080/"
        },
        "id": "AJJqwzL1m4Ag",
        "outputId": "365445b5-b972-4091-ad34-64c8b8eade34"
      },
      "id": "AJJqwzL1m4Ag",
      "execution_count": null,
      "outputs": [
        {
          "output_type": "stream",
          "name": "stdout",
          "text": [
            "Requirement already satisfied: markovify in /usr/local/lib/python3.11/dist-packages (0.9.4)\n",
            "Requirement already satisfied: unidecode in /usr/local/lib/python3.11/dist-packages (from markovify) (1.4.0)\n",
            "Drive already mounted at /content/drive; to attempt to forcibly remount, call drive.mount(\"/content/drive\", force_remount=True).\n"
          ]
        },
        {
          "output_type": "stream",
          "name": "stderr",
          "text": [
            "[nltk_data] Downloading package punkt_tab to /root/nltk_data...\n",
            "[nltk_data]   Package punkt_tab is already up-to-date!\n"
          ]
        },
        {
          "output_type": "execute_result",
          "data": {
            "text/plain": [
              "True"
            ]
          },
          "metadata": {},
          "execution_count": 64
        }
      ]
    },
    {
      "cell_type": "code",
      "source": [
        "n = 3\n",
        "corpus = '/content/drive/MyDrive/corpus'\n",
        "folder = corpus\n",
        "\n",
        "#funciones recicladas de codigo de clase y modificadas a conveniencia\n",
        "def load_data(directory):\n",
        "    contents = []\n",
        "\n",
        "    # Read all files and extract words\n",
        "    for filename in os.listdir(directory):\n",
        "        with open(os.path.join(directory, filename)) as f:\n",
        "            contents.extend([\n",
        "                word.lower() for word in\n",
        "                nltk.word_tokenize(f.read())\n",
        "                if any(c.isalpha() for c in word)\n",
        "            ])\n",
        "    return contents\n",
        "\n",
        "\n",
        "#solo necesito esta funcion del codigo de clase\n",
        "def main(n,folder):                                                      #en este blolque cambie la carga de datos ya que la libreria sys estaba adapotada para entorno local de python\n",
        "    \"\"\"Calculate top term frequencies for a corpus of documents.\"\"\"      #elimine las funciones excedentes que involucravban este modulo  y agrega una carga sencilla\n",
        "                                                                         #emparejada con drive, concerve la funcion load_data\n",
        "    corpus = load_data(folder)\n",
        "\n",
        "    # Compute n-grams\n",
        "    ngrams = Counter(nltk.ngrams(corpus, n))\n",
        "\n",
        "    # Print most common n-grams\n",
        "    ngramsarch = dict()\n",
        "    for ngram, freq in ngrams.most_common(5):\n",
        "        ngram1 = ''\n",
        "        for i in ngram:\n",
        "            ngram1 += f'{i} '\n",
        "        ngramsarch[ngram1] = freq\n",
        "    return ngramsarch\n",
        "import matplotlib.pyplot as plt\n",
        "\n",
        "def graficar(ngramas, n):\n",
        "    etiquetas = list(ngramas.keys())\n",
        "    valores = list(ngramas.values())\n",
        "\n",
        "    plt.figure(figsize=(10, 5))\n",
        "    plt.title(f'{n}-gramas más frecuentes en los libros de Mark Twain')\n",
        "    plt.bar(etiquetas, valores, color='skyblue')\n",
        "    plt.xlabel('Frecuencia')\n",
        "    plt.ylabel(f'{n}-gramas')\n",
        "    plt.grid()\n",
        "    plt.show()"
      ],
      "metadata": {
        "id": "5gSMZj59uve1"
      },
      "id": "5gSMZj59uve1",
      "execution_count": null,
      "outputs": []
    },
    {
      "cell_type": "code",
      "source": [
        "n_grams_de_3_mas_comunes = main(3,corpus)\n",
        "print(n_grams_de_3_mas_comunes)"
      ],
      "metadata": {
        "colab": {
          "base_uri": "https://localhost:8080/"
        },
        "id": "h18U-jAl0kyk",
        "outputId": "da735243-f8a5-46c9-d766-f3974ab04fac"
      },
      "id": "h18U-jAl0kyk",
      "execution_count": null,
      "outputs": [
        {
          "output_type": "stream",
          "name": "stdout",
          "text": [
            "{'it was a ': 285, 'out of the ': 225, 'there was a ': 199, 'one of the ': 164, 'it is a ': 138}\n"
          ]
        }
      ]
    },
    {
      "cell_type": "code",
      "source": [
        "graficar(n_grams_de_3_mas_comunes,3)"
      ],
      "metadata": {
        "colab": {
          "base_uri": "https://localhost:8080/",
          "height": 488
        },
        "id": "i-z15rJ43buZ",
        "outputId": "9727ba74-ecac-44cb-908d-263c32f3f1f6"
      },
      "id": "i-z15rJ43buZ",
      "execution_count": null,
      "outputs": [
        {
          "output_type": "display_data",
          "data": {
            "text/plain": [
              "<Figure size 1000x500 with 1 Axes>"
            ],
            "image/png": "[encoded data removed]"
          },
          "metadata": {}
        }
      ]
    },
    {
      "cell_type": "code",
      "source": [
        "n_grams_de_2_mas_comunes = main(2,corpus)\n",
        "print(n_grams_de_3_mas_comunes)"
      ],
      "metadata": {
        "colab": {
          "base_uri": "https://localhost:8080/"
        },
        "id": "jEc4sBgl4e7x",
        "outputId": "54d776ab-8bd0-4b85-9e57-60463107a56b"
      },
      "id": "jEc4sBgl4e7x",
      "execution_count": null,
      "outputs": [
        {
          "output_type": "stream",
          "name": "stdout",
          "text": [
            "{'it was a ': 285, 'out of the ': 225, 'there was a ': 199, 'one of the ': 164, 'it is a ': 138}\n"
          ]
        }
      ]
    },
    {
      "cell_type": "code",
      "source": [
        "graficar(n_grams_de_2_mas_comunes,2)"
      ],
      "metadata": {
        "colab": {
          "base_uri": "https://localhost:8080/",
          "height": 488
        },
        "id": "Z7QUA4vp4oCG",
        "outputId": "36599931-2c33-4c30-f06b-90ae1b1a8209"
      },
      "id": "Z7QUA4vp4oCG",
      "execution_count": null,
      "outputs": [
        {
          "output_type": "display_data",
          "data": {
            "text/plain": [
              "<Figure size 1000x500 with 1 Axes>"
            ],
            "image/png": "[encoded data removed]"
          },
          "metadata": {}
        }
      ]
    },
    {
      "cell_type": "code",
      "source": [
        "text = ''           #almaceno la informacion de los textos en esta cadena\n",
        "nombres_libros = ['The Prince and the Pauper .txt',\n",
        "                  'The Adventures of Tom Sawyer.txt',\n",
        "                  'The Innocents Abroad.txt',\n",
        "                  \"Connecticut Yankee in King Arthur's Court.txt\",\n",
        "                  'Life on the Mississippi.txt']\n",
        "\n",
        "for archivo in nombres_libros:\n",
        "    file_i = open(folder+'/'+archivo,encoding= 'utf-8')\n",
        "    text += file_i.read()\n",
        "    file_i.close()\n",
        "\n",
        "# Train model\n",
        "text_model = markovify.Text(text)\n",
        "\n",
        "# Generate sentences\n",
        "for i in range(5):\n",
        "    print(text_model.make_sentence())\n",
        "    print()\n"
      ],
      "metadata": {
        "colab": {
          "base_uri": "https://localhost:8080/"
        },
        "id": "gxtzthM-74fg",
        "outputId": "993079e7-6b03-4d75-cc1a-9f25e3e687b0"
      },
      "id": "gxtzthM-74fg",
      "execution_count": null,
      "outputs": [
        {
          "output_type": "stream",
          "name": "stdout",
          "text": [
            "The more immediate scenery consisted of forty thousand inhabitants and place ourselves in accordance with paragraph 1.F.3, a full refund of any consequence in the whisperings of its great men, they had forced him to spare that nineteen years of Genoese and Neapolitans of to-day.\n",
            "\n",
            "Next he essayed to tie the King’s command so precious a grace that marked the possession of extraordinary talent.\n",
            "\n",
            "Then she sprang away and blend with the mere matter of twenty-five thousand, and the greatness of Venice were secured.\n",
            "\n",
            "The company felt that all the ship's company there was music every where--choruses, string bands, brass bands, flutes, every thing.\n",
            "\n",
            "Idiot, if he _had_ run across it was all the devils that be in the pit at the head of reserved steam on, here they can't.\n",
            "\n"
          ]
        }
      ]
    },
    {
      "cell_type": "code",
      "source": [
        "def main_tf_idf(direccion):\n",
        "    \"\"\"Calculate top TF-IDF for a corpus of documents.\"\"\"\n",
        "\n",
        "\n",
        "    corpus = load_data2(direccion)\n",
        "\n",
        "    # Get all words in corpus\n",
        "    print(\"Extracting words from corpus...\")\n",
        "    words = set()\n",
        "    for filename in corpus:\n",
        "        words.update(corpus[filename])\n",
        "\n",
        "    # Calculate IDFs\n",
        "    print(\"Calculating inverse document frequencies...\")\n",
        "    idfs = dict()\n",
        "    for word in words:\n",
        "        f = sum(word in corpus[filename] for filename in corpus)\n",
        "        idf = math.log(len(corpus) / f)\n",
        "        idfs[word] = idf\n",
        "\n",
        "    # Calculate TF-IDFs\n",
        "    print(\"Calculating term frequencies...\")\n",
        "    tfidfs = dict()\n",
        "    for filename in corpus:\n",
        "        tfidfs[filename] = []\n",
        "        for word in corpus[filename]:\n",
        "            tf = corpus[filename][word]\n",
        "            tfidfs[filename].append((word, tf * idfs[word]))\n",
        "\n",
        "    # Sort and get top 5 TF-IDFs for each file\n",
        "    print(\"Computing top terms...\")\n",
        "    for filename in corpus:\n",
        "        tfidfs[filename].sort(key=lambda tfidf: tfidf[1], reverse=True)\n",
        "        tfidfs[filename] = tfidfs[filename][:30]\n",
        "\n",
        "    # Print results\n",
        "    print()\n",
        "    for filename in corpus:\n",
        "        print(filename)\n",
        "        for term, score in tfidfs[filename]:\n",
        "            print(f\"    {term}: {score:.4f}\")\n",
        "\n",
        "\n",
        "def load_data2(directory):\n",
        "    files = dict()\n",
        "    for filename in os.listdir(directory):\n",
        "        with open(os.path.join(directory, filename)) as f:\n",
        "\n",
        "            # Extract words\n",
        "            contents = [\n",
        "                word.lower() for word in\n",
        "                nltk.word_tokenize(f.read())\n",
        "                if word.isalpha()\n",
        "            ]\n",
        "\n",
        "            # Count frequencies\n",
        "            frequencies = dict()\n",
        "            for word in contents:\n",
        "                if word not in frequencies:\n",
        "                    frequencies[word] = 1\n",
        "                else:\n",
        "                    frequencies[word] += 1\n",
        "            files[filename] = frequencies\n",
        "\n",
        "    return files\n",
        "\n",
        "\n",
        "\n",
        "main_tf_idf(corpus)"
      ],
      "metadata": {
        "id": "ATIfMGbMAQ_2",
        "colab": {
          "base_uri": "https://localhost:8080/"
        },
        "outputId": "3c7a10f6-6bdf-4156-81ce-ea4d9233bc8c"
      },
      "id": "ATIfMGbMAQ_2",
      "execution_count": null,
      "outputs": [
        {
          "output_type": "stream",
          "name": "stdout",
          "text": [
            "Extracting words from corpus...\n",
            "Calculating inverse document frequencies...\n",
            "Calculating term frequencies...\n",
            "Computing top terms...\n",
            "\n",
            "The Prince and the Pauper .txt\n",
            "    hendon: 259.1195\n",
            "    canty: 156.1155\n",
            "    prince: 99.1002\n",
            "    thou: 64.2653\n",
            "    hugh: 62.7681\n",
            "    tom: 60.9182\n",
            "    hertford: 59.5492\n",
            "    thy: 51.5462\n",
            "    lt: 37.0171\n",
            "    offal: 33.7982\n",
            "    tis: 31.6712\n",
            "    edward: 30.2376\n",
            "    seal: 29.3213\n",
            "    thee: 28.7855\n",
            "    edith: 24.1416\n",
            "    humphrey: 24.1416\n",
            "    nan: 22.5321\n",
            "    norfolk: 22.5321\n",
            "    prithee: 21.9910\n",
            "    dost: 21.9910\n",
            "    chancellor: 20.9227\n",
            "    hugo: 19.9222\n",
            "    hast: 19.4114\n",
            "    ruffler: 17.7038\n",
            "    shalt: 17.3681\n",
            "    hath: 17.1821\n",
            "    liege: 16.4932\n",
            "    westminster: 16.0944\n",
            "    hose: 16.0944\n",
            "    southwark: 16.0944\n",
            "The Adventures of Tom Sawyer.txt\n",
            "    t: 329.9934\n",
            "    huck: 215.3283\n",
            "    ll: 210.7469\n",
            "    becky: 175.4287\n",
            "    tom: 174.2751\n",
            "    joe: 150.2717\n",
            "    re: 125.5362\n",
            "    sid: 123.9267\n",
            "    ain: 109.0386\n",
            "    don: 108.8059\n",
            "    polly: 90.1285\n",
            "    thatcher: 74.0341\n",
            "    wouldn: 74.0341\n",
            "    ve: 71.4707\n",
            "    injun: 65.0566\n",
            "    em: 64.3775\n",
            "    sawyer: 57.9398\n",
            "    potter: 49.4797\n",
            "    didn: 43.0657\n",
            "    aunt: 42.9094\n",
            "    muff: 40.2359\n",
            "    welshman: 35.4076\n",
            "    harper: 33.9028\n",
            "    couldn: 33.7982\n",
            "    huckleberry: 27.4887\n",
            "    douglas: 27.3604\n",
            "    hadn: 27.3604\n",
            "    amy: 24.1416\n",
            "    nted: 24.1416\n",
            "    auntie: 24.1416\n",
            "The Innocents Abroad.txt\n",
            "    jerusalem: 128.7550\n",
            "    damascus: 112.6607\n",
            "    saviour: 106.2229\n",
            "    venice: 88.5191\n",
            "    dan: 83.6908\n",
            "    pilgrims: 82.4662\n",
            "    arabs: 62.7681\n",
            "    naples: 61.1586\n",
            "    paris: 60.4752\n",
            "    ephesus: 57.9398\n",
            "    jordan: 57.9398\n",
            "    smyrna: 53.1115\n",
            "    bedouins: 53.1115\n",
            "    genoa: 51.5020\n",
            "    blucher: 49.8926\n",
            "    bucksheesh: 49.8926\n",
            "    sepulchre: 48.2831\n",
            "    constantinople: 46.7308\n",
            "    mosque: 46.6737\n",
            "    christians: 46.6737\n",
            "    italy: 44.8982\n",
            "    coliseum: 43.4548\n",
            "    grotto: 41.8454\n",
            "    tangier: 40.2359\n",
            "    nazareth: 40.2359\n",
            "    jesus: 40.2359\n",
            "    italian: 38.6265\n",
            "    ze: 38.6265\n",
            "    arab: 38.4842\n",
            "    pompeii: 37.0171\n",
            "Connecticut Yankee in King Arthur's Court.txt\n",
            "    merlin: 119.0984\n",
            "    launcelot: 111.0512\n",
            "    clarence: 94.9568\n",
            "    marhaus: 49.8926\n",
            "    sagramor: 43.4548\n",
            "    kay: 43.4548\n",
            "    camelot: 43.4548\n",
            "    knight: 42.9094\n",
            "    arthur: 41.3769\n",
            "    gawaine: 40.2359\n",
            "    armor: 36.6516\n",
            "    dowley: 35.4076\n",
            "    mordred: 35.4076\n",
            "    boss: 32.9865\n",
            "    gareth: 30.5793\n",
            "    spear: 25.6561\n",
            "    castle: 25.5413\n",
            "    abbot: 24.7398\n",
            "    damsel: 24.1416\n",
            "    marco: 22.9073\n",
            "    milrays: 20.9227\n",
            "    knights: 19.4135\n",
            "    sandy: 18.0746\n",
            "    brake: 16.4932\n",
            "    guenever: 16.0944\n",
            "    commoner: 16.0944\n",
            "    wheelwright: 16.0944\n",
            "    helmet: 15.5769\n",
            "    wires: 15.5769\n",
            "    alisande: 14.4849\n",
            "Life on the Mississippi.txt\n",
            "    pilots: 148.0683\n",
            "    pilot: 122.7830\n",
            "    orleans: 119.1178\n",
            "    bixby: 109.4418\n",
            "    association: 49.4797\n",
            "    vicksburg: 48.2831\n",
            "    boat: 46.4139\n",
            "    stephen: 45.0643\n",
            "    plantation: 38.6265\n",
            "    alligator: 37.0171\n",
            "    backus: 33.7982\n",
            "    mabry: 33.7982\n",
            "    natchez: 30.5793\n",
            "    cairo: 29.3213\n",
            "    mumford: 28.9699\n",
            "    ealer: 28.9699\n",
            "    captain: 28.7855\n",
            "    steamboats: 27.4887\n",
            "    buoy: 27.3604\n",
            "    yates: 27.3604\n",
            "    cincinnati: 25.7510\n",
            "    hurricane: 25.6561\n",
            "    paul: 25.6561\n",
            "    salle: 24.1416\n",
            "    adler: 24.1416\n",
            "    piloting: 23.8236\n",
            "    reef: 23.8236\n",
            "    memphis: 23.8236\n",
            "    napoleon: 22.9073\n",
            "    footnote: 22.9073\n"
          ]
        }
      ]
    },
    {
      "cell_type": "markdown",
      "source": [
        "segun el tf-idf:\n",
        "\n",
        "1. The Prince and the Pauper: el titulo da algo de informacion trivial sobre lo que trata, nobleza y pobreza, sin enbargo identificamos personajes principales como el apellido de tom 'canty' , edith , hught y su apellido hendon, algo tribial y verificable si se lee la obra, ahora llama la atencion la identificacion del termino  'hath' que traduce tiene, y  'ruffler' vagabundo que da una clave importante en el contenido de la obra que va por ese escenario social, asi como liege soberano, da un contexto de lo que trata la obra.\n",
        "\n",
        "2. The Adventures of Tom Sawyer: destacan nuevamente los personajes principales y las abreviaciones de las palabras dan una idea de un ingles poco formal y arcaico tal vez de personas menores.\n",
        "\n",
        "3. The Innocents Abroad: parace segun los nombres propios como jerusalen, damasco,venecia sujieren sitios de viaje, ademas de salvador, sugiere ademas una obra que gira entorno a una premisa religiosa , pobablemente antigua  o con relevancia antigua y mayoritariamente religiosa con respecto al cristianismo o a roma.\n",
        "\n",
        "4. Connecticut Yankee in King Arthur's Court: nombres como merlin , arthurt ,luncelot, clarence, parecen nombre medievales, ademas se mencionan caballeros y castillos, parece que la obra esta ambientada o gira entorno a la edad media  y a una cruzada o batalla entre buenos y malos aunque no se menciona dragones parece que solo se ambienta en ese tiempo.\n",
        "\n",
        "5. Life on the Mississippi:lugares como  orleans y vicksburg sitios de estados unidos o antiguos lugares de este, en el sur del pais, se mencionan  botes y pilotos,  sugiere tambien un viaje o descripcion de lugares entorno a como el titulo lo indica al rio Missippi porbablemente navegacion o trabecia o analizis o descriopcion de la cutura entorno al rio.\n"
      ],
      "metadata": {
        "id": "exWV-4CMFU_P"
      },
      "id": "exWV-4CMFU_P"
    },
    {
      "cell_type": "markdown",
      "id": "17219f18",
      "metadata": {
        "id": "17219f18"
      },
      "source": [
        "## Ej 3\n",
        "\n",
        "Utilice el dataset djunto sobre reseñas de películas con etiquetas positivas y negativas. Construya la bolsa de palabras que corresponden a revisiones negativas y positivas. A partir de allí, entrene un modelo Naive-Bayes, para predecir si una nueva revisión es positiva o negativa."
      ]
    },
    {
      "cell_type": "code",
      "source": [
        "import pandas as pd     #decidi usar pandas\n",
        "\n",
        "ruta2 = '/content/drive/MyDrive/datos/texts.csv'\n",
        "datos = pd.read_csv(ruta2)\n",
        "\n",
        "positivos = datos[datos['label'] == 'positive'].drop(columns=['is_valid'], errors='ignore')\n",
        "negativos = datos[datos['label'] == 'negative'].drop(columns=['is_valid'], errors='ignore')\n",
        "\n",
        "positivos_arreglos = positivos['text']\n",
        "negativos_arreglos = negativos['text']"
      ],
      "metadata": {
        "id": "GJIoB499z6yB"
      },
      "id": "GJIoB499z6yB",
      "execution_count": null,
      "outputs": []
    },
    {
      "cell_type": "code",
      "source": [
        "import nltk\n",
        "import os\n",
        "import sys\n",
        "\n",
        "\n",
        "def main_naive(positives_1, negatives_1):\n",
        "\n",
        "    #acomode esta carga de datos para que recibiera un pd.dataframe mas oractico que documentos txt\n",
        "    positives = list()\n",
        "    for texto in positives_1:\n",
        "        positives.append(extract_words(texto))\n",
        "    negatives = list()\n",
        "    for texto in negatives_1:\n",
        "        negatives.append(extract_words(texto))\n",
        "\n",
        "    # Create a set of all words\n",
        "    words = set()\n",
        "    for document in positives:\n",
        "        words.update(document)\n",
        "    for document in negatives:\n",
        "        words.update(document)\n",
        "\n",
        "    # Extract features from text\n",
        "    training = []\n",
        "    training.extend(generate_features(positives, words, \"Positive\"))\n",
        "    training.extend(generate_features(negatives, words, \"Negative\"))\n",
        "\n",
        "    # Classify a new sample\n",
        "    classifier = nltk.NaiveBayesClassifier.train(training)\n",
        "    classifier.show_most_informative_features(10)           #segun la documentacion me da informacion de las features mas relvante para asi probar cuales\n",
        "                                                            #pueden armar frases que expresen sentimientos negativos y positos\n",
        "\n",
        "    s = input(\"s: \")\n",
        "    result = (classify(classifier, s, words))\n",
        "    for key in result.samples():\n",
        "        print(f\"{key}: {result.prob(key):.4f}\")\n",
        "\n",
        "\n",
        "def extract_words(document):\n",
        "    return set(\n",
        "        word.lower() for word in nltk.word_tokenize(document)\n",
        "        if any(c.isalpha() for c in word)\n",
        "    )\n",
        "\n",
        "\n",
        "def load_data(directory):\n",
        "    result = []\n",
        "    for filename in [\"positivos.txt\", \"negativos.txt\"]:\n",
        "        with open(os.path.join(directory, filename)) as f:\n",
        "            result.append([\n",
        "                extract_words(line)\n",
        "                for line in f.read().splitlines()\n",
        "            ])\n",
        "    return result\n",
        "\n",
        "\n",
        "def generate_features(documents, words, label):\n",
        "    features = []\n",
        "    for document in documents:\n",
        "        features.append(({\n",
        "            word: (word in document)\n",
        "            for word in words\n",
        "        }, label))\n",
        "    return features\n",
        "\n",
        "\n",
        "def classify(classifier, document, words):\n",
        "    document_words = extract_words(document)\n",
        "    features = {\n",
        "        word: (word in document_words)\n",
        "        for word in words\n",
        "    }\n",
        "    return classifier.prob_classify(features)"
      ],
      "metadata": {
        "id": "ddm3QhjmjiYf"
      },
      "id": "ddm3QhjmjiYf",
      "execution_count": null,
      "outputs": []
    },
    {
      "cell_type": "code",
      "source": [
        "#basicamente busque las palabras que mas peso daban para una opinion negativa y arme frases triviales con ellas\n",
        "\"the movie was beautifully made and absolutely stunning\"\n",
        "main_naive(positivos_arreglos,negativos_arreglos)"
      ],
      "metadata": {
        "colab": {
          "base_uri": "https://localhost:8080/"
        },
        "id": "ymvILsRjlqLo",
        "outputId": "0ef66b1b-0a55-4679-86df-27b6b41e2d87"
      },
      "id": "ymvILsRjlqLo",
      "execution_count": null,
      "outputs": [
        {
          "output_type": "stream",
          "name": "stdout",
          "text": [
            "Most Informative Features\n",
            "                    crap = True           Negati : Positi =     18.5 : 1.0\n",
            "             beautifully = True           Positi : Negati =     11.4 : 1.0\n",
            "                    fake = True           Negati : Positi =     10.6 : 1.0\n",
            "                   worst = True           Negati : Positi =      9.8 : 1.0\n",
            "                stunning = True           Positi : Negati =      9.5 : 1.0\n",
            "                 garbage = True           Negati : Positi =      9.4 : 1.0\n",
            "                    ride = True           Positi : Negati =      8.4 : 1.0\n",
            "                   naked = True           Negati : Positi =      8.2 : 1.0\n",
            "                     sat = True           Negati : Positi =      8.2 : 1.0\n",
            "                somebody = True           Negati : Positi =      8.2 : 1.0\n",
            "s: \"the movie was beautifully made and absolutely stunning\n",
            "Positive: 1.0000\n",
            "Negative: 0.0000\n"
          ]
        }
      ]
    },
    {
      "cell_type": "code",
      "source": [
        "\"this movie was the worst crap ever full of fake scenes and total garbage\"\n",
        "main_naive(positivos_arreglos,negativos_arreglos)"
      ],
      "metadata": {
        "colab": {
          "base_uri": "https://localhost:8080/"
        },
        "id": "vObN0-dFmoTl",
        "outputId": "7d2c4d12-c379-4bd8-f615-14327c984229"
      },
      "id": "vObN0-dFmoTl",
      "execution_count": null,
      "outputs": [
        {
          "output_type": "stream",
          "name": "stdout",
          "text": [
            "Most Informative Features\n",
            "                    crap = True           Negati : Positi =     18.5 : 1.0\n",
            "             beautifully = True           Positi : Negati =     11.4 : 1.0\n",
            "                    fake = True           Negati : Positi =     10.6 : 1.0\n",
            "                   worst = True           Negati : Positi =      9.8 : 1.0\n",
            "                stunning = True           Positi : Negati =      9.5 : 1.0\n",
            "                 garbage = True           Negati : Positi =      9.4 : 1.0\n",
            "                    ride = True           Positi : Negati =      8.4 : 1.0\n",
            "                   naked = True           Negati : Positi =      8.2 : 1.0\n",
            "                     sat = True           Negati : Positi =      8.2 : 1.0\n",
            "                somebody = True           Negati : Positi =      8.2 : 1.0\n",
            "s: this movie was the worst crap ever full of fake scenes and total garbage\n",
            "Positive: 0.0379\n",
            "Negative: 0.9621\n"
          ]
        }
      ]
    },
    {
      "cell_type": "markdown",
      "id": "fdf1730f",
      "metadata": {
        "id": "fdf1730f"
      },
      "source": [
        "## Ej 4\n",
        "\n",
        "Modifique el código para entrenar redes neuronales para realizar una tarea de clasificación que le encomienda una empresa que ha tomado datos de sus clientes. La tabla contiene la siguiente informacion\n",
        "\n",
        "- Edad: Edad de un cliente\n",
        "- Salario: Salario en miles de dólares\n",
        "- Compro / No Compro: Variable booleana (0 - No Compro) y (1 - Compró)\n",
        "\n",
        "Para esta tarea considere la siguiente arquitectura de la red\n",
        "\n",
        "- 1 Capa oculta con 5 unidades\n",
        "- 1 neurona en la capa de salida con función de activacion sigmoide\n",
        "- Optimizador Adagrad, métirca tipo Accuracy y Función de Pérdida Binary Cross-entropy\n",
        "- Tamaño del conjunto de prueba 25%\n",
        "- Número de epocas 100\n",
        "\n",
        "Qué tipo de función de activación entre la siguientes opciones funciona mejora en la capa oculta en esta tarea:\n",
        "\n",
        "- \"relu\", \"tanh\" o \"sigmoid\""
      ]
    },
    {
      "cell_type": "code",
      "execution_count": null,
      "id": "c6fd108c",
      "metadata": {
        "id": "c6fd108c"
      },
      "outputs": [],
      "source": [
        "# TODO\n",
        "import csv\n",
        "import tensorflow as tf\n",
        "from sklearn.model_selection import train_test_split\n",
        "\n",
        "ruta = '/content/drive/MyDrive/datos/Social_Network_Ads.csv'\n",
        "\n",
        "# Read data in from file\n",
        "with open(ruta) as f:\n",
        "    reader = csv.reader(f)\n",
        "    next(reader)\n",
        "\n",
        "    data = []\n",
        "    for row in reader:\n",
        "        age = float(row[0])\n",
        "        salary = float(row[1])\n",
        "        label = int(row[2])\n",
        "        data.append({\"evidence\": [age,salary],\"label\": label\n",
        "        })\n",
        "\n",
        "evidence = np.array([row[\"evidence\"] for row in data])\n",
        "labels = np.array([row[\"label\"] for row in data])\n",
        "X_training, X_testing, y_training, y_testing = train_test_split(evidence, labels, test_size=0.25)"
      ]
    },
    {
      "cell_type": "code",
      "source": [
        "#como varia deoendiendo del conjunto voy a entrenar varias veces  para sacar el maccuracy promdio y ver cual se desempeña mejor\n",
        "\n",
        "funciones = [\"relu\", \"tanh\" , \"sigmoid\"]\n",
        "\n",
        "rendimientos = {\"relu\":0 , \"tanh\":0, \"sigmoid\":0}\n",
        "\n",
        "for funcion in funciones:\n",
        "        for i in range(50):\n",
        "            model =tf.keras.models.Sequential()\n",
        "            model.add(tf.keras.layers.Dense(5, input_shape=(2,), activation=funcion))\n",
        "            model.add(tf.keras.layers.Dense(1, activation=\"sigmoid\"))\n",
        "            model.compile( optimizer=\"Adagrad\", loss=\"binary_crossentropy\",  metrics=[\"accuracy\"])\n",
        "            model.fit(X_training, y_training, epochs=100, verbose = 0)\n",
        "            loss, accuracy = model.evaluate(X_testing, y_testing, verbose=0)  #verbose me permite hacer que no muestre el entrenamiento\n",
        "            rendimientos[funcion] += accuracy"
      ],
      "metadata": {
        "id": "3Q-2IROvpMfQ"
      },
      "id": "3Q-2IROvpMfQ",
      "execution_count": null,
      "outputs": []
    },
    {
      "cell_type": "code",
      "source": [
        "print(\"Resultados promedio después de 10 repeticiones:\")\n",
        "for funcion in funciones:\n",
        "    promedio = rendimientos[funcion] / 50\n",
        "    print(f\"{funcion}: {promedio}\")"
      ],
      "metadata": {
        "colab": {
          "base_uri": "https://localhost:8080/"
        },
        "id": "FRe228gwxIHQ",
        "outputId": "c719ecfe-ba0a-4bb5-ae67-f8aa4da2e85c"
      },
      "id": "FRe228gwxIHQ",
      "execution_count": null,
      "outputs": [
        {
          "output_type": "stream",
          "name": "stdout",
          "text": [
            "Resultados promedio después de 10 repeticiones:\n",
            "relu: 0.5579999959468842\n",
            "tanh: 0.5079999995231629\n",
            "sigmoid: 0.5319999980926514\n"
          ]
        }
      ]
    },
    {
      "cell_type": "code",
      "source": [
        "funciones = list(rendimientos.keys())\n",
        "valores = list(rendimientos.values())\n",
        "\n",
        "plt.figure(figsize=(10, 5))\n",
        "plt.title('comparacion rendimiento de funciones de activacion')\n",
        "plt.bar(funciones, valores, color='green')\n",
        "plt.xlabel('funciones')\n",
        "plt.ylabel('Accuracy')\n",
        "plt.grid()\n",
        "plt.show()"
      ],
      "metadata": {
        "id": "XtDfyT9Eo17E",
        "colab": {
          "base_uri": "https://localhost:8080/",
          "height": 487
        },
        "outputId": "b005c285-c1d7-4274-ea7c-352ae1b48663"
      },
      "id": "XtDfyT9Eo17E",
      "execution_count": null,
      "outputs": [
        {
          "output_type": "display_data",
          "data": {
            "text/plain": [
              "<Figure size 1000x500 with 1 Axes>"
            ],
            "image/png": "[encoded data removed]"
          },
          "metadata": {}
        }
      ]
    },
    {
      "cell_type": "markdown",
      "source": [
        "despues de 50 ciclos de entranmiento para cada funcion, relu parece tener el mejor desempeño."
      ],
      "metadata": {
        "id": "QPXHaJL7GbOq"
      },
      "id": "QPXHaJL7GbOq"
    }
  ],
  "metadata": {
    "kernelspec": {
      "display_name": "Python 3 (ipykernel)",
      "language": "python",
      "name": "python3"
    },
    "language_info": {
      "codemirror_mode": {
        "name": "ipython",
        "version": 3
      },
      "file_extension": ".py",
      "mimetype": "text/x-python",
      "name": "python",
      "nbconvert_exporter": "python",
      "pygments_lexer": "ipython3",
      "version": "3.10.12"
    },
    "colab": {
      "provenance": [],
      "include_colab_link": true
    }
  },
  "nbformat": 4,
  "nbformat_minor": 5
}